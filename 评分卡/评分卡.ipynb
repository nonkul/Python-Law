{
 "metadata": {
  "language_info": {
   "codemirror_mode": {
    "name": "ipython",
    "version": 3
   },
   "file_extension": ".py",
   "mimetype": "text/x-python",
   "name": "python",
   "nbconvert_exporter": "python",
   "pygments_lexer": "ipython3",
   "version": "3.8.5-final"
  },
  "orig_nbformat": 2,
  "kernelspec": {
   "name": "python3",
   "display_name": "Python 3",
   "language": "python"
  }
 },
 "nbformat": 4,
 "nbformat_minor": 2,
 "cells": [
  {
   "source": [
    "前言：创建金融评分卡\n",
    "<1> 申请评分卡各特征必须是贷前就能获取的特征，主要包括以下四个方面：1.还款能力 2.还款意愿 3.稳定性 4.多头借贷 应该围绕以上四个方面对变量进行特征工程\n",
    "<2> 目前创建评分卡主要有两种方式：1.逻辑回归（经典稳定可解释性强）2.其他机器学习方法（准确率可能高，但解释性差）\n",
    "<3> 逻辑回归模型创建金融评分卡的核心步骤：\n",
    "1.变量分箱---->无监督分箱（等宽、等频，人工指定分箱切割点）\n",
    "        ----->最优分箱（C4.5决策树分箱、卡方分箱）\n",
    "2.WOE编码----计算方式是每箱好样本与坏样本比例的比值的自然对数\n",
    "3.IV ----->每箱好样本比例与坏样本比例的差值再乘以对应WOE值，一般选择IV>=0.02的变量\n",
    "4.共线性、相关性、显著性检验\n",
    "5.计算每个变量对应切分点的分数\n",
    "\n",
    "\n"
   ],
   "cell_type": "markdown",
   "metadata": {}
  },
  {
   "cell_type": "code",
   "execution_count": null,
   "metadata": {},
   "outputs": [],
   "source": [
    "import pandas as pd\n",
    "\n"
   ]
  }
 ]
}